{
 "cells": [
  {
   "cell_type": "markdown",
   "id": "0528e4a0",
   "metadata": {},
   "source": [
    "# Lecture 04 - Functions and debugging\n",
    "\n",
    "In this lecture we are going to see how to write our own functions. But _why_ do we need to write our own functions? \n",
    "\n",
    "When we build our own programs, those programs are going to consist in hundreds or thousands of lines of code; therefore we should break such code into chunks that are smaller, more maintainable and potentially more reusable. We refer to these chunks are **functions**."
   ]
  },
  {
   "cell_type": "markdown",
   "id": "1b2ff99f",
   "metadata": {
    "jp-MarkdownHeadingCollapsed": true
   },
   "source": [
    "## How to write your own function"
   ]
  },
  {
   "cell_type": "markdown",
   "id": "d0a641fd-b3d1-48a4-9f76-362efe48f140",
   "metadata": {},
   "source": [
    "So, how can we create our own custom functions? \n",
    "\n",
    "We start by using the `def` keyword, which is short for \"define\"; next we are going to give our function a name by following some best practices that can be found here [https://peps.python.org/pep-0008/#introduction]; then we add round parentheses and a colon:"
   ]
  },
  {
   "cell_type": "code",
   "execution_count": 73,
   "id": "f3b72fa2",
   "metadata": {},
   "outputs": [],
   "source": [
    "# With this line, we start creating a new custom function\n",
    "\n",
    "def my_dinner():\n",
    "    None"
   ]
  },
  {
   "cell_type": "markdown",
   "id": "c409368a",
   "metadata": {},
   "source": [
    "After using the `def function_name():` notation, if we go to a newline we are going to get **indentation**, which means that the statements that follow belong to the function that we just created:"
   ]
  },
  {
   "cell_type": "code",
   "execution_count": 74,
   "id": "6df19f6c",
   "metadata": {},
   "outputs": [],
   "source": [
    "# Note! Both statements belong to the function because they are indented\n",
    "\n",
    "def my_dinner():\n",
    "    print('noodles')\n",
    "    print('mushrooms')"
   ]
  },
  {
   "cell_type": "markdown",
   "id": "53f6ef36",
   "metadata": {},
   "source": [
    "Now that we are done with writing our function we need to _call it_. **Calling** a function quite literally means to call the function and thus trigger its behaviour. \n",
    "\n",
    "So we go to a newline, remove indentation, and use line breaks to make our code clean and readable."
   ]
  },
  {
   "cell_type": "code",
   "execution_count": 75,
   "id": "4f555f35",
   "metadata": {},
   "outputs": [],
   "source": [
    "def my_dinner():\n",
    "    print('noodles')\n",
    "    print('mushrooms')\n",
    "    \n",
    "    \n",
    "my_dinner()"
   ]
  },
  {
   "cell_type": "markdown",
   "id": "c5c6bbff",
   "metadata": {},
   "source": [
    "**Q**: What is the difference between the `my_dinner()` function and the `print()` functions?  \n",
    "**A**: That the `my_dinner()` function does not take any input, while the `print()` function takes some input.\n",
    "\n",
    "But we can also write custom functions that accept some input. Let's modify our `my_dinner()` function so as to pass it some input, for example the types of ingredients. We distinguish between _parameters_ and _arguments_."
   ]
  },
  {
   "cell_type": "markdown",
   "id": "0af593f3",
   "metadata": {
    "jp-MarkdownHeadingCollapsed": true
   },
   "source": [
    "## Parameters vs arguments"
   ]
  },
  {
   "cell_type": "markdown",
   "id": "b8bebd12",
   "metadata": {},
   "source": [
    "When defining a function, in between parentheses we are going to list our **parameters**, for instance:"
   ]
  },
  {
   "cell_type": "code",
   "execution_count": 76,
   "id": "2cfd67ff",
   "metadata": {},
   "outputs": [],
   "source": [
    "def my_dinner(noodle_type, side_type):\n",
    "    print('noodles')\n",
    "    print('mushrooms')"
   ]
  },
  {
   "cell_type": "markdown",
   "id": "1e16377c",
   "metadata": {},
   "source": [
    "Now, when **calling** this function, we need to supply **values** for the parameters that we specified; we refer to these values as **arguments**:"
   ]
  },
  {
   "cell_type": "code",
   "execution_count": 77,
   "id": "91c26b03",
   "metadata": {},
   "outputs": [],
   "source": [
    "# def:                    keyword\n",
    "# my_dinner:              function name\n",
    "# noodle_type, side_type: function parameters\n",
    "# print('Noodles'):       first statement\n",
    "# print('Mushrooms'):     second statement\n",
    "\n",
    "def my_dinner(noodle_type, side_type):\n",
    "    print('noodles')\n",
    "    print('mushrooms')\n",
    "    \n",
    "\n",
    "# my_dinner():            function calling\n",
    "# 'glass', 'shiitake':    function arguments\n",
    "\n",
    "my_dinner('glass', 'shiitake')"
   ]
  },
  {
   "cell_type": "markdown",
   "id": "1a982f6e",
   "metadata": {},
   "source": [
    "**Remember**  \n",
    "parameter = input of the function  \n",
    "argument = actual value of the parameter that we pass to the function"
   ]
  },
  {
   "cell_type": "markdown",
   "id": "3cda63c6",
   "metadata": {},
   "source": [
    "Now let's change the function **statements** so as to accept the values that we pass to the function in input:"
   ]
  },
  {
   "cell_type": "code",
   "execution_count": 78,
   "id": "c822c271",
   "metadata": {},
   "outputs": [],
   "source": [
    "# We can use string formatting!\n",
    "\n",
    "def my_dinner(noodle_type, side_type):\n",
    "    print(f'{noodle_type} noodles')\n",
    "    print(f'{side_type} mushrooms')\n",
    "    \n",
    "\n",
    "my_dinner('glass', 'shiitake')"
   ]
  },
  {
   "cell_type": "markdown",
   "id": "4ead8fa1",
   "metadata": {},
   "source": [
    "Now this function is more useful and we can call it with different arguments:"
   ]
  },
  {
   "cell_type": "code",
   "execution_count": 79,
   "id": "9729e136",
   "metadata": {},
   "outputs": [],
   "source": [
    "my_dinner('soba', 'enoki')\n",
    "print('\\n')\n",
    "my_dinner('udon', 'stir fry')\n",
    "print('\\n')\n",
    "my_dinner('ramen', 'oyster')"
   ]
  },
  {
   "cell_type": "markdown",
   "id": "d5b5d94c",
   "metadata": {},
   "source": [
    "Or even:"
   ]
  },
  {
   "cell_type": "code",
   "execution_count": 80,
   "id": "1a447b2f",
   "metadata": {},
   "outputs": [],
   "source": [
    "def greet(name, surname):\n",
    "    print(f'Guten Abend {name} {surname}!')\n",
    "\n",
    "greet('Sasha', 'Luccioni')\n",
    "greet('Simone', 'De Beauvoir')\n",
    "greet('Audre', 'Lorde')"
   ]
  },
  {
   "cell_type": "markdown",
   "id": "ba444ebb",
   "metadata": {},
   "source": [
    "Note that by default **all** the parameters that we define for a function are REQUIRED; if we exclude one of the two arguments from our function calling we get an error:"
   ]
  },
  {
   "cell_type": "code",
   "execution_count": 81,
   "id": "dcd514a9",
   "metadata": {},
   "outputs": [],
   "source": [
    "my_dinner('ramen')"
   ]
  },
  {
   "cell_type": "markdown",
   "id": "8ea0a58a",
   "metadata": {
    "jp-MarkdownHeadingCollapsed": true
   },
   "source": [
    "## Types of functions"
   ]
  },
  {
   "cell_type": "markdown",
   "id": "bd614bf6",
   "metadata": {},
   "source": [
    "In Python we have two types of functions:  \n",
    "\n",
    "1. Functions that perform a task\n",
    "2. Functions that calculate and return a value\n",
    "\n",
    "The `print()`, `my_dinner()` and `greet()` functions are all examples of type 1: they perform the task of printing something on the terminal.\n",
    "In contrast, the `round()` function is an example of type 2, because it calculates and returns a value:"
   ]
  },
  {
   "cell_type": "code",
   "execution_count": null,
   "id": "6462e8d7",
   "metadata": {},
   "outputs": [],
   "source": [
    "round(1.7)"
   ]
  },
  {
   "cell_type": "markdown",
   "id": "07eadc56",
   "metadata": {},
   "source": [
    "Now we can also try to rewrite our `my_dinner()` function so as to make it a function of type 2, that returns a value:"
   ]
  },
  {
   "cell_type": "code",
   "execution_count": null,
   "id": "8139b345",
   "metadata": {},
   "outputs": [],
   "source": [
    "def get_mydinner(noodle_type, side_type):\n",
    "    return f'Dinner: {noodle_type} noodles and {side_type} mushrooms'"
   ]
  },
  {
   "cell_type": "markdown",
   "id": "c7484019",
   "metadata": {},
   "source": [
    "and since this function now **returns a value**, we can store this value in a variable! Let's call it `dinner1`:"
   ]
  },
  {
   "cell_type": "code",
   "execution_count": null,
   "id": "3ef86b37",
   "metadata": {},
   "outputs": [],
   "source": [
    "dinner1 = get_mydinner('ramen', 'oyster')\n",
    "print(dinner1)"
   ]
  },
  {
   "cell_type": "markdown",
   "id": "5c5d61d5",
   "metadata": {},
   "source": [
    "**Q**: Why is the `get_mydinner()` function better?   \n",
    "**A**: Because with the first implementation of the function (`my_dinner()`), we are stuck to printing something on terminal, and we cannot, for instance, store the output in a variable and write it to a file. This means that we cannot readily REUSE this function in other scenarios, whereas with the second function we can."
   ]
  },
  {
   "cell_type": "markdown",
   "id": "c8280593",
   "metadata": {},
   "source": [
    "But now, what if we do this:"
   ]
  },
  {
   "cell_type": "code",
   "execution_count": null,
   "id": "da755b27",
   "metadata": {},
   "outputs": [],
   "source": [
    "def my_dinner(noodle_type):\n",
    "    print(f'{noodle_type} noodles')\n",
    "    \n",
    "print(my_dinner('ramen'))"
   ]
  },
  {
   "cell_type": "markdown",
   "id": "42cab0d2",
   "metadata": {},
   "source": [
    "We get \"ramen noodles\" followed by None: **None is the return value of the `my_dinner()` function**. \n",
    "\n",
    "In Python, **all functions by default return the None value** unless we specifically return a certain value, like we did before. So even if this last function has a return value, it is still classified as a function that performs a task, and not a function that calculates and returns a value"
   ]
  },
  {
   "cell_type": "markdown",
   "id": "ecca6ce7",
   "metadata": {
    "jp-MarkdownHeadingCollapsed": true
   },
   "source": [
    "## Scope of a function: local and global variables"
   ]
  },
  {
   "cell_type": "markdown",
   "id": "dfb93e6a",
   "metadata": {},
   "source": [
    "In programming we have a very important concept called **scope** which refers to the region of the code where a variable is defined.\n",
    "\n",
    "In the following example, the scope of the variable `dinner` is the function `my_dinner()`, meaning that the variable `dinner` only exists inside of the `my_dinner()` function. \n",
    "\n",
    "If we try to go outside the function and print the value of the variable `dinner` we get an error:"
   ]
  },
  {
   "cell_type": "code",
   "execution_count": null,
   "id": "1f37e20e",
   "metadata": {},
   "outputs": [],
   "source": [
    "def my_dinner():\n",
    "    dinner = 'glass noodles'\n",
    "    \n",
    "print(dinner)"
   ]
  },
  {
   "cell_type": "markdown",
   "id": "478b42b1",
   "metadata": {},
   "source": [
    "The same rule applies to the parameters of our function:"
   ]
  },
  {
   "cell_type": "code",
   "execution_count": null,
   "id": "a6b6cb9c",
   "metadata": {},
   "outputs": [],
   "source": [
    "def my_dinner(noodle_type):\n",
    "    dinner = 'glass noodles'\n",
    "    \n",
    "print(noodle_type)"
   ]
  },
  {
   "cell_type": "markdown",
   "id": "8485ca73",
   "metadata": {},
   "source": [
    "So the `dinner` and `noodle_type` variables' scope is the `my_dinner()` function. We thus refer to them as **local** variables to the `my_dinner()` function. \n",
    "\n",
    "Being _local_ to the function means that they don't exist anywhere else except in that function. \n",
    "\n",
    "Therefore we can easily have a situation like this without creating any ambiguity:"
   ]
  },
  {
   "cell_type": "code",
   "execution_count": null,
   "id": "d4603630",
   "metadata": {},
   "outputs": [],
   "source": [
    "def my_dinner(noodle_type):\n",
    "    dinner = 'glass noodles'\n",
    "    \n",
    "\n",
    "def menu(noodle_type):\n",
    "    dinner = 'ramen noodles'"
   ]
  },
  {
   "cell_type": "markdown",
   "id": "4df1318b",
   "metadata": {},
   "source": [
    "Local variables have a short life span: when we call the function, the Python interpreter allocates some memory to store the values of the parameters for the function, and when we finish executing the function, they get _garbage collected_, which means that the interpreter will release the memory allocated for these variables."
   ]
  },
  {
   "cell_type": "markdown",
   "id": "ce5309e0",
   "metadata": {},
   "source": [
    "In contrast to local variables we have **global** variables.\n",
    "\n",
    "If we move the `dinner` variable outside the `my_dinner()` function, the variable becomes global and is now accessible from anywhere in this file: the **scope** of the variable is now **this file**. \n",
    "\n",
    "For this reason, global variables stay in memory for a longer period of time, so it is not recommended to make heavy use of them:"
   ]
  },
  {
   "cell_type": "code",
   "execution_count": null,
   "id": "17e561c4",
   "metadata": {},
   "outputs": [],
   "source": [
    "dinner = 'glass noodles'      # global variable\n",
    "\n",
    "def my_dinner(noodle_type):\n",
    "    dinner = 'ramen noodles'  # local variable\n",
    "    \n",
    "print(dinner)"
   ]
  },
  {
   "cell_type": "markdown",
   "id": "9f4a9a2c",
   "metadata": {},
   "source": [
    "Note how, despite having the same name, Python treats these two variables as separate and thus does not change the value of the global variable, because the second one is local."
   ]
  },
  {
   "cell_type": "markdown",
   "id": "abf809fc",
   "metadata": {},
   "source": [
    "We can also change the global value of a variable from within a function but this SHOULD BE ALWAYS AVOIDED:"
   ]
  },
  {
   "cell_type": "code",
   "execution_count": null,
   "id": "e75bbfb6",
   "metadata": {},
   "outputs": [],
   "source": [
    "dinner = 'glass noodles'      \n",
    "\n",
    "def my_dinner(noodle_type):\n",
    "    global dinner\n",
    "    dinner = 'udon noodles'  \n",
    "    \n",
    "\n",
    "my_dinner('ramen')\n",
    "print(dinner)"
   ]
  },
  {
   "cell_type": "markdown",
   "id": "d479cd8f",
   "metadata": {},
   "source": [
    "**Q**: Why is this so bad?   \n",
    "**A**: Because it is highly likely that in your project you will have multiple functions that rely on the value of a global variable. If you accidentally or deliberately change the value of this global variable in one function, this might have a side effect in other functions, and those functions may not behave properly."
   ]
  },
  {
   "cell_type": "code",
   "execution_count": null,
   "id": "4a32300f",
   "metadata": {},
   "outputs": [],
   "source": []
  }
 ],
 "metadata": {
  "celltoolbar": "Raw Cell Format",
  "kernelspec": {
   "display_name": "Python 3 (ipykernel)",
   "language": "python",
   "name": "python3"
  },
  "language_info": {
   "codemirror_mode": {
    "name": "ipython",
    "version": 3
   },
   "file_extension": ".py",
   "mimetype": "text/x-python",
   "name": "python",
   "nbconvert_exporter": "python",
   "pygments_lexer": "ipython3",
   "version": "3.12.4"
  }
 },
 "nbformat": 4,
 "nbformat_minor": 5
}
